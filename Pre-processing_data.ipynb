{
 "cells": [
  {
   "cell_type": "code",
   "execution_count": null,
   "id": "998ef580",
   "metadata": {},
   "outputs": [
    {
     "data": {
      "text/html": [
       "<div>\n",
       "<style scoped>\n",
       "    .dataframe tbody tr th:only-of-type {\n",
       "        vertical-align: middle;\n",
       "    }\n",
       "\n",
       "    .dataframe tbody tr th {\n",
       "        vertical-align: top;\n",
       "    }\n",
       "\n",
       "    .dataframe thead th {\n",
       "        text-align: right;\n",
       "    }\n",
       "</style>\n",
       "<table border=\"1\" class=\"dataframe\">\n",
       "  <thead>\n",
       "    <tr style=\"text-align: right;\">\n",
       "      <th></th>\n",
       "      <th>ap_1</th>\n",
       "      <th>ap_2</th>\n",
       "      <th>ap_3</th>\n",
       "      <th>ap_4</th>\n",
       "      <th>ap_5</th>\n",
       "      <th>ap_6</th>\n",
       "      <th>ap_7</th>\n",
       "      <th>ap_8</th>\n",
       "      <th>ap_9</th>\n",
       "      <th>ap_10</th>\n",
       "      <th>...</th>\n",
       "      <th>ap_62</th>\n",
       "      <th>ap_63</th>\n",
       "      <th>ap_64</th>\n",
       "      <th>ap_65</th>\n",
       "      <th>ap_66</th>\n",
       "      <th>ap_67</th>\n",
       "      <th>ap_68</th>\n",
       "      <th>ap_69</th>\n",
       "      <th>ap_70</th>\n",
       "      <th>spot</th>\n",
       "    </tr>\n",
       "  </thead>\n",
       "  <tbody>\n",
       "    <tr>\n",
       "      <th>0</th>\n",
       "      <td>-37.0</td>\n",
       "      <td>-41.0</td>\n",
       "      <td>NaN</td>\n",
       "      <td>NaN</td>\n",
       "      <td>NaN</td>\n",
       "      <td>NaN</td>\n",
       "      <td>-93.0</td>\n",
       "      <td>NaN</td>\n",
       "      <td>-74.0</td>\n",
       "      <td>NaN</td>\n",
       "      <td>...</td>\n",
       "      <td>NaN</td>\n",
       "      <td>NaN</td>\n",
       "      <td>NaN</td>\n",
       "      <td>NaN</td>\n",
       "      <td>NaN</td>\n",
       "      <td>NaN</td>\n",
       "      <td>NaN</td>\n",
       "      <td>NaN</td>\n",
       "      <td>NaN</td>\n",
       "      <td>Lobby Belakang_L1</td>\n",
       "    </tr>\n",
       "    <tr>\n",
       "      <th>1</th>\n",
       "      <td>-68.0</td>\n",
       "      <td>-69.0</td>\n",
       "      <td>NaN</td>\n",
       "      <td>-65.0</td>\n",
       "      <td>NaN</td>\n",
       "      <td>-76.0</td>\n",
       "      <td>NaN</td>\n",
       "      <td>-72.0</td>\n",
       "      <td>-79.0</td>\n",
       "      <td>-81.0</td>\n",
       "      <td>...</td>\n",
       "      <td>NaN</td>\n",
       "      <td>NaN</td>\n",
       "      <td>NaN</td>\n",
       "      <td>NaN</td>\n",
       "      <td>NaN</td>\n",
       "      <td>NaN</td>\n",
       "      <td>NaN</td>\n",
       "      <td>NaN</td>\n",
       "      <td>NaN</td>\n",
       "      <td>Lobby Belakang_L1</td>\n",
       "    </tr>\n",
       "    <tr>\n",
       "      <th>2</th>\n",
       "      <td>-53.0</td>\n",
       "      <td>-56.0</td>\n",
       "      <td>NaN</td>\n",
       "      <td>-68.0</td>\n",
       "      <td>NaN</td>\n",
       "      <td>-67.0</td>\n",
       "      <td>-82.0</td>\n",
       "      <td>-76.0</td>\n",
       "      <td>-76.0</td>\n",
       "      <td>-76.0</td>\n",
       "      <td>...</td>\n",
       "      <td>NaN</td>\n",
       "      <td>NaN</td>\n",
       "      <td>NaN</td>\n",
       "      <td>NaN</td>\n",
       "      <td>NaN</td>\n",
       "      <td>NaN</td>\n",
       "      <td>NaN</td>\n",
       "      <td>NaN</td>\n",
       "      <td>NaN</td>\n",
       "      <td>Lobby Belakang_L1</td>\n",
       "    </tr>\n",
       "    <tr>\n",
       "      <th>3</th>\n",
       "      <td>-69.0</td>\n",
       "      <td>-74.0</td>\n",
       "      <td>-62.0</td>\n",
       "      <td>-59.0</td>\n",
       "      <td>-87.0</td>\n",
       "      <td>-35.0</td>\n",
       "      <td>-49.0</td>\n",
       "      <td>-60.0</td>\n",
       "      <td>-75.0</td>\n",
       "      <td>-59.0</td>\n",
       "      <td>...</td>\n",
       "      <td>NaN</td>\n",
       "      <td>NaN</td>\n",
       "      <td>NaN</td>\n",
       "      <td>NaN</td>\n",
       "      <td>NaN</td>\n",
       "      <td>NaN</td>\n",
       "      <td>NaN</td>\n",
       "      <td>NaN</td>\n",
       "      <td>NaN</td>\n",
       "      <td>Lobby Belakang_L1</td>\n",
       "    </tr>\n",
       "    <tr>\n",
       "      <th>4</th>\n",
       "      <td>-63.0</td>\n",
       "      <td>-58.0</td>\n",
       "      <td>NaN</td>\n",
       "      <td>-76.0</td>\n",
       "      <td>NaN</td>\n",
       "      <td>-77.0</td>\n",
       "      <td>NaN</td>\n",
       "      <td>NaN</td>\n",
       "      <td>-65.0</td>\n",
       "      <td>-85.0</td>\n",
       "      <td>...</td>\n",
       "      <td>NaN</td>\n",
       "      <td>NaN</td>\n",
       "      <td>NaN</td>\n",
       "      <td>NaN</td>\n",
       "      <td>NaN</td>\n",
       "      <td>NaN</td>\n",
       "      <td>NaN</td>\n",
       "      <td>NaN</td>\n",
       "      <td>NaN</td>\n",
       "      <td>Lobby Belakang_L1</td>\n",
       "    </tr>\n",
       "  </tbody>\n",
       "</table>\n",
       "<p>5 rows × 71 columns</p>\n",
       "</div>"
      ],
      "text/plain": [
       "   ap_1  ap_2  ap_3  ap_4  ap_5  ap_6  ap_7  ap_8  ap_9  ap_10  ...  ap_62  \\\n",
       "0 -37.0 -41.0   NaN   NaN   NaN   NaN -93.0   NaN -74.0    NaN  ...    NaN   \n",
       "1 -68.0 -69.0   NaN -65.0   NaN -76.0   NaN -72.0 -79.0  -81.0  ...    NaN   \n",
       "2 -53.0 -56.0   NaN -68.0   NaN -67.0 -82.0 -76.0 -76.0  -76.0  ...    NaN   \n",
       "3 -69.0 -74.0 -62.0 -59.0 -87.0 -35.0 -49.0 -60.0 -75.0  -59.0  ...    NaN   \n",
       "4 -63.0 -58.0   NaN -76.0   NaN -77.0   NaN   NaN -65.0  -85.0  ...    NaN   \n",
       "\n",
       "   ap_63  ap_64  ap_65  ap_66  ap_67  ap_68  ap_69  ap_70               spot  \n",
       "0    NaN    NaN    NaN    NaN    NaN    NaN    NaN    NaN  Lobby Belakang_L1  \n",
       "1    NaN    NaN    NaN    NaN    NaN    NaN    NaN    NaN  Lobby Belakang_L1  \n",
       "2    NaN    NaN    NaN    NaN    NaN    NaN    NaN    NaN  Lobby Belakang_L1  \n",
       "3    NaN    NaN    NaN    NaN    NaN    NaN    NaN    NaN  Lobby Belakang_L1  \n",
       "4    NaN    NaN    NaN    NaN    NaN    NaN    NaN    NaN  Lobby Belakang_L1  \n",
       "\n",
       "[5 rows x 71 columns]"
      ]
     },
     "execution_count": 2,
     "metadata": {},
     "output_type": "execute_result"
    }
   ],
   "source": [
    "import pandas as pd\n",
    "\n",
    "df = pd.read_csv('../Dataset_Model.csv')\n",
    "df.head()"
   ]
  },
  {
   "cell_type": "code",
   "execution_count": 3,
   "id": "f8a789b7",
   "metadata": {},
   "outputs": [
    {
     "data": {
      "text/plain": [
       "<Axes: title={'center': 'Frekuensi Muncul per AP'}>"
      ]
     },
     "execution_count": 3,
     "metadata": {},
     "output_type": "execute_result"
    },
    {
     "data": {
      "image/png": "[encoded data removed]",
      "text/plain": [
       "<Figure size 1500x500 with 1 Axes>"
      ]
     },
     "metadata": {},
     "output_type": "display_data"
    }
   ],
   "source": [
    "ap_cols = [col for col in df.columns if col.startswith('ap_')]\n",
    "df_ap = df[ap_cols]\n",
    "\n",
    "# Hitung berapa banyak nilai non-NaN per kolom\n",
    "non_nan_count = df_ap.count().sort_values(ascending=False)\n",
    "\n",
    "# Visualisasi\n",
    "non_nan_count.plot(kind='bar', figsize=(15,5), title='Frekuensi Muncul per AP')\n"
   ]
  },
  {
   "cell_type": "code",
   "execution_count": 4,
   "id": "6fdc2659",
   "metadata": {},
   "outputs": [
    {
     "name": "stdout",
     "output_type": "stream",
     "text": [
      "Jumlah AP setelah filtering: 43\n"
     ]
    }
   ],
   "source": [
    "threshold = len(df) * 0.10  # 10%\n",
    "selected_ap = non_nan_count[non_nan_count >= threshold].index.tolist()\n",
    "\n",
    "df_filtered = df[selected_ap + ['spot']]\n",
    "print(f\"Jumlah AP setelah filtering: {len(selected_ap)}\")\n",
    "df_filtered.to_csv('Dataset_Model_Preprocessed.csv', index=False)"
   ]
  },
  {
   "cell_type": "markdown",
   "id": "37b21475",
   "metadata": {},
   "source": [
    "Untuk menghindari noise dan mengurangi risiko overfitting pada tahap pemodelan, Access Point yang frekuensi kemunculannya kurang dari 10% dari total data akan dihapus (tidak digunakan) dari dataset. Karena kemungkinan access point tersebut berada di luar area gedung Upatik dan Perpustakaan, tetapi secara kebetulan tertangkap selama proses pemetaan access point."
   ]
  },
  {
   "cell_type": "code",
   "execution_count": 5,
   "id": "50821c5a",
   "metadata": {},
   "outputs": [
    {
     "name": "stdout",
     "output_type": "stream",
     "text": [
      "✅ File 'features_used.csv' berhasil dibuat.\n"
     ]
    }
   ],
   "source": [
    "import pandas as pd\n",
    "\n",
    "# Load dataset\n",
    "df = pd.read_csv(\"../Dataset_Model_Preprocessed.csv\")\n",
    "\n",
    "# Ambil semua kolom fitur (exclude 'spot')\n",
    "feature_names = df.drop(columns=['spot']).columns.tolist()\n",
    "\n",
    "# Simpan ke CSV\n",
    "pd.DataFrame({'feature': feature_names}).to_csv('features_used.csv', index=False)\n",
    "\n",
    "print(\"✅ File 'features_used.csv' berhasil dibuat.\")\n"
   ]
  }
 ],
 "metadata": {
  "kernelspec": {
   "display_name": "Python 3",
   "language": "python",
   "name": "python3"
  },
  "language_info": {
   "codemirror_mode": {
    "name": "ipython",
    "version": 3
   },
   "file_extension": ".py",
   "mimetype": "text/x-python",
   "name": "python",
   "nbconvert_exporter": "python",
   "pygments_lexer": "ipython3",
   "version": "3.11.3"
  }
 },
 "nbformat": 4,
 "nbformat_minor": 5
}
